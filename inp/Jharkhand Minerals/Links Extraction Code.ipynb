{
 "cells": [
  {
   "cell_type": "code",
   "execution_count": 2,
   "metadata": {},
   "outputs": [],
   "source": [
    "from selenium import webdriver\n",
    "import pandas as pd"
   ]
  },
  {
   "cell_type": "code",
   "execution_count": 3,
   "metadata": {},
   "outputs": [],
   "source": [
    "chrome_driver_loc = 'C:/Users/nikhi/Downloads/chromedriver'\n",
    "driver = webdriver.Chrome(chrome_driver_loc)\n",
    "url = 'https://portal.jharkhandminerals.gov.in/portal/misreports/misLesseeReport.aspx'\n",
    "driver.get(url)"
   ]
  },
  {
   "cell_type": "code",
   "execution_count": 5,
   "metadata": {},
   "outputs": [],
   "source": [
    "df = pd.read_html(driver.find_element_by_xpath('//*[@id=\"grdLesse\"]').get_attribute('outerHTML'))"
   ]
  },
  {
   "cell_type": "code",
   "execution_count": 9,
   "metadata": {},
   "outputs": [],
   "source": [
    "f = open('C:/Users/nikhi/Downloads/Lease_List.xls','r',encoding='utf-8')\n",
    "txt = f.read()"
   ]
  },
  {
   "cell_type": "code",
   "execution_count": 13,
   "metadata": {},
   "outputs": [],
   "source": [
    "df = pd.read_html(txt)[0]"
   ]
  },
  {
   "cell_type": "code",
   "execution_count": 14,
   "metadata": {},
   "outputs": [
    {
     "data": {
      "text/html": [
       "<div>\n",
       "<style scoped>\n",
       "    .dataframe tbody tr th:only-of-type {\n",
       "        vertical-align: middle;\n",
       "    }\n",
       "\n",
       "    .dataframe tbody tr th {\n",
       "        vertical-align: top;\n",
       "    }\n",
       "\n",
       "    .dataframe thead th {\n",
       "        text-align: right;\n",
       "    }\n",
       "</style>\n",
       "<table border=\"1\" class=\"dataframe\">\n",
       "  <thead>\n",
       "    <tr style=\"text-align: right;\">\n",
       "      <th></th>\n",
       "      <th>Sl#</th>\n",
       "      <th>Dmo Name</th>\n",
       "      <th>Lessee Name</th>\n",
       "      <th>Mines Name</th>\n",
       "      <th>ML/RML</th>\n",
       "      <th>Lessee Code</th>\n",
       "      <th>Mineral</th>\n",
       "      <th>Details</th>\n",
       "    </tr>\n",
       "  </thead>\n",
       "  <tbody>\n",
       "    <tr>\n",
       "      <th>0</th>\n",
       "      <td>1</td>\n",
       "      <td>CHAIBASA</td>\n",
       "      <td>A.H.N. MINERAL</td>\n",
       "      <td>A.H.N. MINERAL</td>\n",
       "      <td>ML</td>\n",
       "      <td>101335801</td>\n",
       "      <td>STONE</td>\n",
       "      <td>View</td>\n",
       "    </tr>\n",
       "    <tr>\n",
       "      <th>1</th>\n",
       "      <td>2</td>\n",
       "      <td>DEOGARH</td>\n",
       "      <td>A.I.E PVT LTD</td>\n",
       "      <td>MOUZA PAHRIDIH STONE MINES</td>\n",
       "      <td>ML</td>\n",
       "      <td>622525102</td>\n",
       "      <td>STONE</td>\n",
       "      <td>View</td>\n",
       "    </tr>\n",
       "    <tr>\n",
       "      <th>2</th>\n",
       "      <td>3</td>\n",
       "      <td>PAKUR</td>\n",
       "      <td>ABDUL BASIR</td>\n",
       "      <td>ABDUL BASIR</td>\n",
       "      <td>ML</td>\n",
       "      <td>623228501</td>\n",
       "      <td>STONE</td>\n",
       "      <td>View</td>\n",
       "    </tr>\n",
       "    <tr>\n",
       "      <th>3</th>\n",
       "      <td>4</td>\n",
       "      <td>SAHEBGANJ</td>\n",
       "      <td>ABDUL FATTAH AND SUNITA MURMU</td>\n",
       "      <td>CHOTA PANCHRUKHI</td>\n",
       "      <td>ML</td>\n",
       "      <td>620940701</td>\n",
       "      <td>STONE</td>\n",
       "      <td>View</td>\n",
       "    </tr>\n",
       "    <tr>\n",
       "      <th>4</th>\n",
       "      <td>5</td>\n",
       "      <td>BOKARO</td>\n",
       "      <td>ABDUL HALIM ANSAARI</td>\n",
       "      <td>MS AMANAT KHANAN UDHYOG SUPPLAIERS</td>\n",
       "      <td>ML</td>\n",
       "      <td>205240301</td>\n",
       "      <td>STONE</td>\n",
       "      <td>View</td>\n",
       "    </tr>\n",
       "    <tr>\n",
       "      <th>...</th>\n",
       "      <td>...</td>\n",
       "      <td>...</td>\n",
       "      <td>...</td>\n",
       "      <td>...</td>\n",
       "      <td>...</td>\n",
       "      <td>...</td>\n",
       "      <td>...</td>\n",
       "      <td>...</td>\n",
       "    </tr>\n",
       "    <tr>\n",
       "      <th>3839</th>\n",
       "      <td>3840</td>\n",
       "      <td>RAMGARH</td>\n",
       "      <td>WEST BOKAARO D GHATOTAND</td>\n",
       "      <td>WEST BOKARO COALIYARI</td>\n",
       "      <td>ML</td>\n",
       "      <td>309055401</td>\n",
       "      <td>COAL</td>\n",
       "      <td>View</td>\n",
       "    </tr>\n",
       "    <tr>\n",
       "      <th>3840</th>\n",
       "      <td>3841</td>\n",
       "      <td>PAKUR</td>\n",
       "      <td>WEST WELL IRON STEEL PVT.LTD.</td>\n",
       "      <td>SRI RAJESH KUMAR</td>\n",
       "      <td>ML</td>\n",
       "      <td>623222801</td>\n",
       "      <td>STONE</td>\n",
       "      <td>View</td>\n",
       "    </tr>\n",
       "    <tr>\n",
       "      <th>3841</th>\n",
       "      <td>3842</td>\n",
       "      <td>DEOGARH</td>\n",
       "      <td>YASSAR NAWAZ</td>\n",
       "      <td>YASSAR NAWAZ</td>\n",
       "      <td>ML</td>\n",
       "      <td>622538701</td>\n",
       "      <td>SAND</td>\n",
       "      <td>View</td>\n",
       "    </tr>\n",
       "    <tr>\n",
       "      <th>3842</th>\n",
       "      <td>3843</td>\n",
       "      <td>JAMSHEDPUR</td>\n",
       "      <td>YOUNG INDIA CONSTRUCTION PVT.LTD</td>\n",
       "      <td>KERKETA STONE MINES</td>\n",
       "      <td>ML</td>\n",
       "      <td>102892901</td>\n",
       "      <td>STONE</td>\n",
       "      <td>View</td>\n",
       "    </tr>\n",
       "    <tr>\n",
       "      <th>3843</th>\n",
       "      <td>3844</td>\n",
       "      <td>DUMKA</td>\n",
       "      <td>ZUBAIR AHMAD</td>\n",
       "      <td>ZUBAIR AHMAD</td>\n",
       "      <td>ML</td>\n",
       "      <td>619325754</td>\n",
       "      <td>STONE</td>\n",
       "      <td>View</td>\n",
       "    </tr>\n",
       "  </tbody>\n",
       "</table>\n",
       "<p>3844 rows × 8 columns</p>\n",
       "</div>"
      ],
      "text/plain": [
       "       Sl#    Dmo Name                       Lessee Name  \\\n",
       "0        1    CHAIBASA                    A.H.N. MINERAL   \n",
       "1        2     DEOGARH                     A.I.E PVT LTD   \n",
       "2        3       PAKUR                       ABDUL BASIR   \n",
       "3        4   SAHEBGANJ     ABDUL FATTAH AND SUNITA MURMU   \n",
       "4        5      BOKARO               ABDUL HALIM ANSAARI   \n",
       "...    ...         ...                               ...   \n",
       "3839  3840     RAMGARH          WEST BOKAARO D GHATOTAND   \n",
       "3840  3841       PAKUR     WEST WELL IRON STEEL PVT.LTD.   \n",
       "3841  3842     DEOGARH                      YASSAR NAWAZ   \n",
       "3842  3843  JAMSHEDPUR  YOUNG INDIA CONSTRUCTION PVT.LTD   \n",
       "3843  3844       DUMKA                      ZUBAIR AHMAD   \n",
       "\n",
       "                              Mines Name ML/RML  Lessee Code Mineral Details  \n",
       "0                         A.H.N. MINERAL     ML    101335801   STONE    View  \n",
       "1             MOUZA PAHRIDIH STONE MINES     ML    622525102   STONE    View  \n",
       "2                            ABDUL BASIR     ML    623228501   STONE    View  \n",
       "3                       CHOTA PANCHRUKHI     ML    620940701   STONE    View  \n",
       "4     MS AMANAT KHANAN UDHYOG SUPPLAIERS     ML    205240301   STONE    View  \n",
       "...                                  ...    ...          ...     ...     ...  \n",
       "3839               WEST BOKARO COALIYARI     ML    309055401    COAL    View  \n",
       "3840                    SRI RAJESH KUMAR     ML    623222801   STONE    View  \n",
       "3841                        YASSAR NAWAZ     ML    622538701    SAND    View  \n",
       "3842                 KERKETA STONE MINES     ML    102892901   STONE    View  \n",
       "3843                        ZUBAIR AHMAD     ML    619325754   STONE    View  \n",
       "\n",
       "[3844 rows x 8 columns]"
      ]
     },
     "execution_count": 14,
     "metadata": {},
     "output_type": "execute_result"
    }
   ],
   "source": [
    "df"
   ]
  },
  {
   "cell_type": "code",
   "execution_count": 16,
   "metadata": {},
   "outputs": [],
   "source": [
    "from bs4 import BeautifulSoup"
   ]
  },
  {
   "cell_type": "code",
   "execution_count": 17,
   "metadata": {},
   "outputs": [],
   "source": [
    "s = BeautifulSoup(txt)"
   ]
  },
  {
   "cell_type": "code",
   "execution_count": 20,
   "metadata": {},
   "outputs": [],
   "source": [
    "a = s.find_all('a')"
   ]
  },
  {
   "cell_type": "code",
   "execution_count": 25,
   "metadata": {},
   "outputs": [],
   "source": [
    "a = a[6:]"
   ]
  },
  {
   "cell_type": "code",
   "execution_count": 34,
   "metadata": {},
   "outputs": [],
   "source": [
    "df['detail_link'] = [i['href'] for i in a]"
   ]
  },
  {
   "cell_type": "code",
   "execution_count": 37,
   "metadata": {},
   "outputs": [],
   "source": [
    "df['detail_link'] = ['https://portal.jharkhandminerals.gov.in/portal/misreports/' + i for i in list(df['detail_link'])]"
   ]
  },
  {
   "cell_type": "code",
   "execution_count": 42,
   "metadata": {},
   "outputs": [],
   "source": [
    "df = df.drop(columns=['Sl#','Details'])"
   ]
  },
  {
   "cell_type": "code",
   "execution_count": 46,
   "metadata": {},
   "outputs": [],
   "source": [
    "f = open('C:/Users/nikhi/Downloads/Lease_List (1).xls','r',encoding='utf-8')\n",
    "txt = f.read()\n",
    "working_df = pd.read_html(txt)[0]"
   ]
  },
  {
   "cell_type": "code",
   "execution_count": 47,
   "metadata": {},
   "outputs": [
    {
     "data": {
      "text/html": [
       "<div>\n",
       "<style scoped>\n",
       "    .dataframe tbody tr th:only-of-type {\n",
       "        vertical-align: middle;\n",
       "    }\n",
       "\n",
       "    .dataframe tbody tr th {\n",
       "        vertical-align: top;\n",
       "    }\n",
       "\n",
       "    .dataframe thead th {\n",
       "        text-align: right;\n",
       "    }\n",
       "</style>\n",
       "<table border=\"1\" class=\"dataframe\">\n",
       "  <thead>\n",
       "    <tr style=\"text-align: right;\">\n",
       "      <th></th>\n",
       "      <th>Sl#</th>\n",
       "      <th>Dmo Name</th>\n",
       "      <th>Lessee Name</th>\n",
       "      <th>Mines Name</th>\n",
       "      <th>ML/RML</th>\n",
       "      <th>Lessee Code</th>\n",
       "      <th>Mineral</th>\n",
       "      <th>Details</th>\n",
       "    </tr>\n",
       "  </thead>\n",
       "  <tbody>\n",
       "    <tr>\n",
       "      <th>0</th>\n",
       "      <td>1</td>\n",
       "      <td>DEOGARH</td>\n",
       "      <td>A.I.E PVT LTD</td>\n",
       "      <td>MOUZA PAHRIDIH STONE MINES</td>\n",
       "      <td>ML</td>\n",
       "      <td>622525102</td>\n",
       "      <td>STONE</td>\n",
       "      <td>View</td>\n",
       "    </tr>\n",
       "    <tr>\n",
       "      <th>1</th>\n",
       "      <td>2</td>\n",
       "      <td>SAHEBGANJ</td>\n",
       "      <td>ABDUL KADIR</td>\n",
       "      <td>ABDUL KADIR</td>\n",
       "      <td>RML</td>\n",
       "      <td>620877401</td>\n",
       "      <td>STONE</td>\n",
       "      <td>View</td>\n",
       "    </tr>\n",
       "    <tr>\n",
       "      <th>2</th>\n",
       "      <td>3</td>\n",
       "      <td>PALAMU</td>\n",
       "      <td>ABDULLAH NASIR MOHAMMAD SANAULLAH FAJAYAL AHMAD</td>\n",
       "      <td>MS CHAUPARIA STONE MINE</td>\n",
       "      <td>ML</td>\n",
       "      <td>411179001</td>\n",
       "      <td>STONE</td>\n",
       "      <td>View</td>\n",
       "    </tr>\n",
       "    <tr>\n",
       "      <th>3</th>\n",
       "      <td>4</td>\n",
       "      <td>GIRIDIH</td>\n",
       "      <td>AJAY KUMAR SAW</td>\n",
       "      <td>CHENGARBAD STONE MINES</td>\n",
       "      <td>ML</td>\n",
       "      <td>206196001</td>\n",
       "      <td>STONE</td>\n",
       "      <td>View</td>\n",
       "    </tr>\n",
       "    <tr>\n",
       "      <th>4</th>\n",
       "      <td>5</td>\n",
       "      <td>SAHEBGANJ</td>\n",
       "      <td>AKASH ALI</td>\n",
       "      <td>AKASH ALI</td>\n",
       "      <td>RML</td>\n",
       "      <td>620379601</td>\n",
       "      <td>STONE</td>\n",
       "      <td>View</td>\n",
       "    </tr>\n",
       "    <tr>\n",
       "      <th>...</th>\n",
       "      <td>...</td>\n",
       "      <td>...</td>\n",
       "      <td>...</td>\n",
       "      <td>...</td>\n",
       "      <td>...</td>\n",
       "      <td>...</td>\n",
       "      <td>...</td>\n",
       "      <td>...</td>\n",
       "    </tr>\n",
       "    <tr>\n",
       "      <th>822</th>\n",
       "      <td>823</td>\n",
       "      <td>SAHEBGANJ</td>\n",
       "      <td>USMAN SEKH</td>\n",
       "      <td>USMAN SEKH</td>\n",
       "      <td>ML</td>\n",
       "      <td>620877301</td>\n",
       "      <td>STONE</td>\n",
       "      <td>View</td>\n",
       "    </tr>\n",
       "    <tr>\n",
       "      <th>823</th>\n",
       "      <td>824</td>\n",
       "      <td>DUMKA</td>\n",
       "      <td>VENKATESHA CRUSHING AND MINING CO. PVT. LTD.</td>\n",
       "      <td>VENKATESHA CRUSHING AND MINING CO. PVT. LTD.</td>\n",
       "      <td>ML</td>\n",
       "      <td>619104701</td>\n",
       "      <td>STONE</td>\n",
       "      <td>View</td>\n",
       "    </tr>\n",
       "    <tr>\n",
       "      <th>824</th>\n",
       "      <td>825</td>\n",
       "      <td>JAMSHEDPUR</td>\n",
       "      <td>VIDHYADHAR SAHU</td>\n",
       "      <td>KOWALI</td>\n",
       "      <td>ML</td>\n",
       "      <td>102411301</td>\n",
       "      <td>STONE</td>\n",
       "      <td>View</td>\n",
       "    </tr>\n",
       "    <tr>\n",
       "      <th>825</th>\n",
       "      <td>826</td>\n",
       "      <td>RANCHI</td>\n",
       "      <td>VINOD MAHTO</td>\n",
       "      <td>VINOD MAHTO</td>\n",
       "      <td>ML</td>\n",
       "      <td>514130201</td>\n",
       "      <td>STONE</td>\n",
       "      <td>View</td>\n",
       "    </tr>\n",
       "    <tr>\n",
       "      <th>826</th>\n",
       "      <td>827</td>\n",
       "      <td>RAMGARH</td>\n",
       "      <td>WEST BOKAARO D GHATOTAND</td>\n",
       "      <td>WEST BOKARO COALIYARI</td>\n",
       "      <td>ML</td>\n",
       "      <td>309055401</td>\n",
       "      <td>COAL</td>\n",
       "      <td>View</td>\n",
       "    </tr>\n",
       "  </tbody>\n",
       "</table>\n",
       "<p>827 rows × 8 columns</p>\n",
       "</div>"
      ],
      "text/plain": [
       "     Sl#    Dmo Name                                      Lessee Name  \\\n",
       "0      1     DEOGARH                                    A.I.E PVT LTD   \n",
       "1      2   SAHEBGANJ                                      ABDUL KADIR   \n",
       "2      3      PALAMU  ABDULLAH NASIR MOHAMMAD SANAULLAH FAJAYAL AHMAD   \n",
       "3      4     GIRIDIH                                   AJAY KUMAR SAW   \n",
       "4      5   SAHEBGANJ                                        AKASH ALI   \n",
       "..   ...         ...                                              ...   \n",
       "822  823   SAHEBGANJ                                       USMAN SEKH   \n",
       "823  824       DUMKA     VENKATESHA CRUSHING AND MINING CO. PVT. LTD.   \n",
       "824  825  JAMSHEDPUR                                  VIDHYADHAR SAHU   \n",
       "825  826      RANCHI                                      VINOD MAHTO   \n",
       "826  827     RAMGARH                         WEST BOKAARO D GHATOTAND   \n",
       "\n",
       "                                       Mines Name ML/RML  Lessee Code Mineral  \\\n",
       "0                      MOUZA PAHRIDIH STONE MINES     ML    622525102   STONE   \n",
       "1                                     ABDUL KADIR    RML    620877401   STONE   \n",
       "2                         MS CHAUPARIA STONE MINE     ML    411179001   STONE   \n",
       "3                          CHENGARBAD STONE MINES     ML    206196001   STONE   \n",
       "4                                       AKASH ALI    RML    620379601   STONE   \n",
       "..                                            ...    ...          ...     ...   \n",
       "822                                    USMAN SEKH     ML    620877301   STONE   \n",
       "823  VENKATESHA CRUSHING AND MINING CO. PVT. LTD.     ML    619104701   STONE   \n",
       "824                                        KOWALI     ML    102411301   STONE   \n",
       "825                                   VINOD MAHTO     ML    514130201   STONE   \n",
       "826                         WEST BOKARO COALIYARI     ML    309055401    COAL   \n",
       "\n",
       "    Details  \n",
       "0      View  \n",
       "1      View  \n",
       "2      View  \n",
       "3      View  \n",
       "4      View  \n",
       "..      ...  \n",
       "822    View  \n",
       "823    View  \n",
       "824    View  \n",
       "825    View  \n",
       "826    View  \n",
       "\n",
       "[827 rows x 8 columns]"
      ]
     },
     "execution_count": 47,
     "metadata": {},
     "output_type": "execute_result"
    }
   ],
   "source": [
    "len(set())"
   ]
  },
  {
   "cell_type": "code",
   "execution_count": 48,
   "metadata": {},
   "outputs": [],
   "source": [
    "f = open('C:/Users/nikhi/Downloads/Lease_List (2).xls','r',encoding='utf-8')\n",
    "txt = f.read()\n",
    "non_working_df = pd.read_html(txt)[0]"
   ]
  },
  {
   "cell_type": "code",
   "execution_count": 49,
   "metadata": {},
   "outputs": [
    {
     "data": {
      "text/plain": [
       "3016"
      ]
     },
     "execution_count": 49,
     "metadata": {},
     "output_type": "execute_result"
    }
   ],
   "source": [
    "len(set(non_working_df['Lessee Code']))"
   ]
  },
  {
   "cell_type": "code",
   "execution_count": 53,
   "metadata": {},
   "outputs": [
    {
     "name": "stderr",
     "output_type": "stream",
     "text": [
      "C:\\Users\\nikhi\\anaconda3\\lib\\site-packages\\ipykernel_launcher.py:2: SettingWithCopyWarning: \n",
      "A value is trying to be set on a copy of a slice from a DataFrame.\n",
      "Try using .loc[row_indexer,col_indexer] = value instead\n",
      "\n",
      "See the caveats in the documentation: https://pandas.pydata.org/pandas-docs/stable/user_guide/indexing.html#returning-a-view-versus-a-copy\n",
      "  \n"
     ]
    }
   ],
   "source": [
    "ndf = non_working_df[['Lessee Code']]\n",
    "ndf['status'] = 'Non-Working'"
   ]
  },
  {
   "cell_type": "code",
   "execution_count": 56,
   "metadata": {},
   "outputs": [],
   "source": [
    "ndf = pd.merge(df,ndf,on=['Lessee Code'])"
   ]
  },
  {
   "cell_type": "code",
   "execution_count": 57,
   "metadata": {},
   "outputs": [
    {
     "name": "stderr",
     "output_type": "stream",
     "text": [
      "C:\\Users\\nikhi\\anaconda3\\lib\\site-packages\\ipykernel_launcher.py:2: SettingWithCopyWarning: \n",
      "A value is trying to be set on a copy of a slice from a DataFrame.\n",
      "Try using .loc[row_indexer,col_indexer] = value instead\n",
      "\n",
      "See the caveats in the documentation: https://pandas.pydata.org/pandas-docs/stable/user_guide/indexing.html#returning-a-view-versus-a-copy\n",
      "  \n"
     ]
    }
   ],
   "source": [
    "wdf = working_df[['Lessee Code']]\n",
    "wdf['status'] = 'Working'"
   ]
  },
  {
   "cell_type": "code",
   "execution_count": 58,
   "metadata": {},
   "outputs": [],
   "source": [
    "wdf = pd.merge(df,wdf,on=['Lessee Code'])"
   ]
  },
  {
   "cell_type": "code",
   "execution_count": 61,
   "metadata": {},
   "outputs": [],
   "source": [
    "df2 = wdf.append(ndf,ignore_index=True)"
   ]
  },
  {
   "cell_type": "code",
   "execution_count": 66,
   "metadata": {},
   "outputs": [
    {
     "name": "stderr",
     "output_type": "stream",
     "text": [
      "C:\\Users\\nikhi\\anaconda3\\lib\\site-packages\\ipykernel_launcher.py:2: SettingWithCopyWarning: \n",
      "A value is trying to be set on a copy of a slice from a DataFrame.\n",
      "Try using .loc[row_indexer,col_indexer] = value instead\n",
      "\n",
      "See the caveats in the documentation: https://pandas.pydata.org/pandas-docs/stable/user_guide/indexing.html#returning-a-view-versus-a-copy\n",
      "  \n"
     ]
    }
   ],
   "source": [
    "temp = df[df['Lessee Code']== 101075001]\n",
    "temp['status'] = 'Temp. Working for Despatch'"
   ]
  },
  {
   "cell_type": "code",
   "execution_count": 67,
   "metadata": {},
   "outputs": [],
   "source": [
    "df2 = df2.append(temp,ignore_index=True)"
   ]
  },
  {
   "cell_type": "code",
   "execution_count": 68,
   "metadata": {},
   "outputs": [],
   "source": [
    "df2.to_csv('C:/Users/nikhi/Dropbox/Jharkhand Minerals/Lessee Profile Links.csv',index=False)"
   ]
  },
  {
   "cell_type": "code",
   "execution_count": null,
   "metadata": {},
   "outputs": [],
   "source": []
  }
 ],
 "metadata": {
  "kernelspec": {
   "display_name": "Python 3",
   "language": "python",
   "name": "python3"
  },
  "language_info": {
   "codemirror_mode": {
    "name": "ipython",
    "version": 3
   },
   "file_extension": ".py",
   "mimetype": "text/x-python",
   "name": "python",
   "nbconvert_exporter": "python",
   "pygments_lexer": "ipython3",
   "version": "3.7.6"
  }
 },
 "nbformat": 4,
 "nbformat_minor": 4
}
