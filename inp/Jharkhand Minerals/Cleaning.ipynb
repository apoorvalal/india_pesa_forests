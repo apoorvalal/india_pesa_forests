{
 "cells": [
  {
   "cell_type": "code",
   "execution_count": 1,
   "metadata": {},
   "outputs": [],
   "source": [
    "import pandas as pd\n",
    "import numpy as np"
   ]
  },
  {
   "cell_type": "code",
   "execution_count": 2,
   "metadata": {},
   "outputs": [],
   "source": [
    "updateNums = {'LesseeProfile': 1, 'LesseeInfo': 2, 'ForestClearance': 3, 'EnvClearance': 4, 'PCBClearance': 5, 'Survey': 6, 'MiningPlan': 7, 'Grant': 8, 'SurfaceRightCL': 9, 'DCC': 10, 'MiningPlanDetails': 7}"
   ]
  },
  {
   "cell_type": "code",
   "execution_count": null,
   "metadata": {},
   "outputs": [],
   "source": [
    "for linkId in updateNums.keys():\n",
    "    mlDf = pd.read_csv('Data/'+'ML_'+linkId+'.csv')\n",
    "    nonMlDf = pd.read_csv('Data/'+'nonML_'+linkId+'.csv')\n",
    "    mlDf.append(nonMlDf,ignore_index=True)[list(mlDf.columns)].to_csv('Data/'+linkId+'.csv',index=False)"
   ]
  },
  {
   "cell_type": "code",
   "execution_count": null,
   "metadata": {},
   "outputs": [],
   "source": [
    "linkId = 'LesseeInfo'\n",
    "df1 = pd.read_csv('Data/'+linkId+'.csv').rename(columns={'updateStatus':linkId+'UpdateStatus'})\n",
    "linkId = 'LesseeProfile'\n",
    "df2 = pd.read_csv('Data/'+linkId+'.csv').rename(columns={'updateStatus':linkId+'UpdateStatus'})"
   ]
  },
  {
   "cell_type": "code",
   "execution_count": 3,
   "metadata": {},
   "outputs": [],
   "source": [
    "df = pd.read_csv('Lessee Links and Details from Table.csv').rename(columns={'Lessee Code':'lessee_code'})"
   ]
  },
  {
   "cell_type": "code",
   "execution_count": 5,
   "metadata": {},
   "outputs": [],
   "source": [
    "count = len(df.columns)\n",
    "for linkId in updateNums.keys():\n",
    "    temp = pd.read_csv('Data/'+linkId+'.csv').rename(columns={'updateStatus':linkId+'UpdateStatus'})\n",
    "    for c in temp.columns:\n",
    "        if c == 'lessee_code':\n",
    "            continue\n",
    "        if c in df.columns:\n",
    "            temp = temp.rename(columns={c:linkId+' '+c})\n",
    "    count += len(temp.columns)\n",
    "    df = df.merge(temp,on='lessee_code')"
   ]
  },
  {
   "cell_type": "code",
   "execution_count": null,
   "metadata": {},
   "outputs": [],
   "source": [
    "count"
   ]
  },
  {
   "cell_type": "code",
   "execution_count": 7,
   "metadata": {},
   "outputs": [],
   "source": [
    "df.to_csv('Data/Master_Data_v1.csv',index=False)"
   ]
  },
  {
   "cell_type": "code",
   "execution_count": 42,
   "metadata": {},
   "outputs": [],
   "source": [
    "newCols = []\n",
    "for c in v1.columns:\n",
    "    c = c.replace('-',' ').replace('(',' ').replace(')',' ').replace('.','').replace('/',' ').strip()\n",
    "    new = ''\n",
    "    for k in c.split():\n",
    "        new += k[:4]+'_'\n",
    "    new = new.strip('_').lower()\n",
    "    if new in newCols:\n",
    "        if new+'_x' not in newCols:\n",
    "            new = new+'_x'\n",
    "        elif new+'_y' not in newCols:\n",
    "            new = new+'_y'\n",
    "        else:\n",
    "            new = new+'_z'\n",
    "    if 'updatestatus' in c.lower():\n",
    "        new = c\n",
    "    newCols.append(new)"
   ]
  },
  {
   "cell_type": "code",
   "execution_count": 44,
   "metadata": {},
   "outputs": [
    {
     "data": {
      "text/plain": [
       "377"
      ]
     },
     "execution_count": 44,
     "metadata": {},
     "output_type": "execute_result"
    }
   ],
   "source": [
    "len(set(newCols))"
   ]
  },
  {
   "cell_type": "code",
   "execution_count": 40,
   "metadata": {},
   "outputs": [
    {
     "data": {
      "text/plain": [
       "117"
      ]
     },
     "execution_count": 40,
     "metadata": {},
     "output_type": "execute_result"
    }
   ],
   "source": []
  },
  {
   "cell_type": "code",
   "execution_count": 45,
   "metadata": {},
   "outputs": [],
   "source": [
    "df.columns = newCols"
   ]
  },
  {
   "cell_type": "code",
   "execution_count": 57,
   "metadata": {},
   "outputs": [],
   "source": [
    "df = df.rename(columns={'less':'lessee_code'})"
   ]
  },
  {
   "cell_type": "code",
   "execution_count": 58,
   "metadata": {},
   "outputs": [],
   "source": [
    "df.to_csv('Data/Master_Data_v2.csv',index=False)"
   ]
  },
  {
   "cell_type": "code",
   "execution_count": 59,
   "metadata": {},
   "outputs": [],
   "source": [
    "v1Cols = {}\n",
    "for linkId in updateNums.keys():\n",
    "    mlDf = pd.read_csv('junk/ML/'+'ML_'+linkId+'.csv')\n",
    "    v1Cols.update({linkId:list(mlDf.columns)})"
   ]
  },
  {
   "cell_type": "code",
   "execution_count": 32,
   "metadata": {},
   "outputs": [],
   "source": [
    "v1 = pd.read_csv('Data/Master_Data_v1.csv')"
   ]
  },
  {
   "cell_type": "code",
   "execution_count": 47,
   "metadata": {},
   "outputs": [
    {
     "data": {
      "text/plain": [
       "'Dmo Name'"
      ]
     },
     "execution_count": 47,
     "metadata": {},
     "output_type": "execute_result"
    }
   ],
   "source": [
    "v1.columns[0]"
   ]
  },
  {
   "cell_type": "code",
   "execution_count": 60,
   "metadata": {},
   "outputs": [],
   "source": [
    "values = []\n",
    "for i in range(377):\n",
    "    linkId = ''\n",
    "    for Id in v1Cols.keys():\n",
    "        if v1.columns[i] in v1Cols[Id]:\n",
    "            linkId = Id\n",
    "        elif 'UpdateStatus' in v1.columns[i]:\n",
    "            linkId = v1.columns[i][:v1.columns[i].index('UpdateStatus')]\n",
    "    values.append([df.columns[i],linkId,v1.columns[i]])"
   ]
  },
  {
   "cell_type": "code",
   "execution_count": 62,
   "metadata": {
    "scrolled": true
   },
   "outputs": [],
   "source": [
    "pd.DataFrame(values,columns=['column','linkId','detail']).to_csv('Data/Codebook v2.csv',index=False)"
   ]
  },
  {
   "cell_type": "code",
   "execution_count": null,
   "metadata": {},
   "outputs": [],
   "source": []
  }
 ],
 "metadata": {
  "kernelspec": {
   "display_name": "Python 3",
   "language": "python",
   "name": "python3"
  },
  "language_info": {
   "codemirror_mode": {
    "name": "ipython",
    "version": 3
   },
   "file_extension": ".py",
   "mimetype": "text/x-python",
   "name": "python",
   "nbconvert_exporter": "python",
   "pygments_lexer": "ipython3",
   "version": "3.7.6"
  }
 },
 "nbformat": 4,
 "nbformat_minor": 4
}
