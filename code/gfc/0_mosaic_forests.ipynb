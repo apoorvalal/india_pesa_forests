{
 "cells": [
  {
   "cell_type": "code",
   "execution_count": 1,
   "metadata": {
    "Collapsed": "false"
   },
   "outputs": [],
   "source": [
    "import rasterio\n",
    "from rasterio.merge import merge\n",
    "from rasterio.plot import show\n",
    "import glob, os\n",
    "from pathlib import Path\n",
    "# run for jupyter notebook\n",
    "from IPython.core.interactiveshell import InteractiveShell\n",
    "InteractiveShell.ast_node_interactivity = 'all'"
   ]
  },
  {
   "cell_type": "code",
   "execution_count": 2,
   "metadata": {
    "Collapsed": "false"
   },
   "outputs": [
    {
     "data": {
      "text/plain": [
       "'/c/Users/alal/Dropbox/1_Research/India_Forests/Code'"
      ]
     },
     "execution_count": 2,
     "metadata": {},
     "output_type": "execute_result"
    }
   ],
   "source": [
    "%pwd"
   ]
  },
  {
   "cell_type": "code",
   "execution_count": 3,
   "metadata": {
    "Collapsed": "false"
   },
   "outputs": [],
   "source": [
    "#%% Read in data\n",
    "rice_root = '/home/apoorval/Research/GeoSpatial/India_Forests/'\n",
    "dbox_root = '/home/alal/Dropbox/1_Research/India_Forests/'\n",
    "root = Path(dbox_root)\n",
    "code = root / 'Code'\n",
    "data = root / 'Data'"
   ]
  },
  {
   "cell_type": "code",
   "execution_count": 4,
   "metadata": {
    "Collapsed": "false"
   },
   "outputs": [
    {
     "name": "stdout",
     "output_type": "stream",
     "text": [
      "/c/Users/alal/Dropbox/1_Research/India_Forests\n",
      "/c/Users/alal/Dropbox/1_Research/India_Forests/Data/Spatial/Rasters\n"
     ]
    }
   ],
   "source": [
    "%cd $root\n",
    "%cd Data/Spatial/Rasters/"
   ]
  },
  {
   "cell_type": "markdown",
   "metadata": {
    "Collapsed": "false"
   },
   "source": [
    "# Lossyear "
   ]
  },
  {
   "cell_type": "code",
   "execution_count": 7,
   "metadata": {
    "Collapsed": "false"
   },
   "outputs": [],
   "source": [
    "lossyear = [\n",
    "    'Hansen_GFC-2017-v1.5_lossyear_20N_070E.tif',\n",
    "    'Hansen_GFC-2017-v1.5_lossyear_20N_080E.tif',\n",
    "    'Hansen_GFC-2017-v1.5_lossyear_30N_070E.tif',\n",
    "    'Hansen_GFC-2017-v1.5_lossyear_30N_080E.tif',\n",
    "    'Hansen_GFC-2017-v1.5_lossyear_40N_070E.tif'\n",
    "]\n",
    "\n",
    "lossyear_maker = True"
   ]
  },
  {
   "cell_type": "code",
   "execution_count": 8,
   "metadata": {
    "Collapsed": "false"
   },
   "outputs": [],
   "source": [
    "%%time\n",
    "\n",
    "src_files_to_mosaic = []\n",
    "for fp in lossyear:\n",
    "    src = rasterio.open(fp)\n",
    "    src_files_to_mosaic.append(src)\n",
    "\n",
    "mosaic, out_trans = merge(src_files_to_mosaic)\n",
    "\n",
    "out_meta = src.meta.copy()"
   ]
  },
  {
   "cell_type": "code",
   "execution_count": 12,
   "metadata": {
    "Collapsed": "false"
   },
   "outputs": [],
   "source": [
    "# Update the metadata\n",
    "out_meta.update({\"driver\": \"GTiff\", \"height\": mosaic.shape[1], \n",
    "                 \"width\": mosaic.shape[2], \n",
    "                 \"transform\": out_trans} \n",
    ")\n",
    "out_meta.update(compress = 'lzw')\n",
    "\n",
    "out_fp = '_Hansen_GFC_lossyear_all.tif'\n",
    "\n",
    "with rasterio.open(out_fp, \"w\", **out_meta) as dest:\n",
    "    dest.write(mosaic)"
   ]
  },
  {
   "cell_type": "markdown",
   "metadata": {
    "Collapsed": "false"
   },
   "source": [
    "# Initial Tree cover "
   ]
  },
  {
   "cell_type": "code",
   "execution_count": 13,
   "metadata": {
    "Collapsed": "false"
   },
   "outputs": [],
   "source": [
    "treecover = [\n",
    "    'Hansen_GFC-2017-v1.5_treecover2000_20N_070E.tif',\n",
    "    'Hansen_GFC-2017-v1.5_treecover2000_20N_080E.tif',\n",
    "    'Hansen_GFC-2017-v1.5_treecover2000_30N_070E.tif',\n",
    "    'Hansen_GFC-2017-v1.5_treecover2000_30N_080E.tif',\n",
    "    'Hansen_GFC-2017-v1.5_treecover2000_40N_070E.tif'\n",
    "]\n"
   ]
  },
  {
   "cell_type": "code",
   "execution_count": 14,
   "metadata": {
    "Collapsed": "false"
   },
   "outputs": [
    {
     "name": "stdout",
     "output_type": "stream",
     "text": [
      "CPU times: user 1min 50s, sys: 1min 5s, total: 2min 56s\n",
      "Wall time: 2min 57s\n"
     ]
    }
   ],
   "source": [
    "%%time\n",
    "src_files_to_mosaic = []\n",
    "for fp in treecover:\n",
    "    src = rasterio.open(fp)\n",
    "    src_files_to_mosaic.append(src)\n",
    "mosaic, out_trans = merge(src_files_to_mosaic)\n",
    "out_meta = src.meta.copy()\n",
    "# Update the metadata\n",
    "out_meta.update({\"driver\": \"GTiff\", \"height\": mosaic.shape[1], \n",
    "                 \"width\": mosaic.shape[2],\n",
    "    \"transform\": out_trans} \n",
    ")\n",
    "out_meta.update(compress = 'lzw')\n",
    "\n",
    "out_fp = '_Hansen_GFC_treecover2000_all.tif'\n",
    "with rasterio.open(out_fp, \"w\", **out_meta) as dest:\n",
    "    dest.write(mosaic)"
   ]
  },
  {
   "cell_type": "code",
   "execution_count": null,
   "metadata": {
    "Collapsed": "false"
   },
   "outputs": [],
   "source": []
  }
 ],
 "metadata": {
  "kernelspec": {
   "display_name": "gis",
   "language": "python",
   "name": "gds"
  },
  "language_info": {
   "codemirror_mode": {
    "name": "ipython",
    "version": 3
   },
   "file_extension": ".py",
   "mimetype": "text/x-python",
   "name": "python",
   "nbconvert_exporter": "python",
   "pygments_lexer": "ipython3",
   "version": "3.6.7"
  }
 },
 "nbformat": 4,
 "nbformat_minor": 4
}
