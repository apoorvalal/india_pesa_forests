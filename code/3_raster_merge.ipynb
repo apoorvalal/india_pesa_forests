{
 "cells": [
  {
   "cell_type": "code",
   "execution_count": 1,
   "metadata": {
    "Collapsed": "false"
   },
   "outputs": [],
   "source": [
    "import os\n",
    "import numpy as np\n",
    "import pandas as pd\n",
    "\n",
    "import matplotlib.pyplot as plt\n",
    "import seaborn as sns\n",
    "import geopandas as gpd\n",
    "\n",
    "from pathlib import Path\n",
    "\n",
    "from rasterstats import zonal_stats\n",
    "import rasterio\n",
    "from rasterio.merge import merge\n",
    "from rasterio.plot import show\n",
    "import glob, os\n",
    "# run for jupyter notebook\n",
    "from IPython.core.interactiveshell import InteractiveShell\n",
    "InteractiveShell.ast_node_interactivity = 'all'"
   ]
  },
  {
   "cell_type": "markdown",
   "metadata": {
    "Collapsed": "false"
   },
   "source": [
    "### Folder Structure"
   ]
  },
  {
   "cell_type": "code",
   "execution_count": 12,
   "metadata": {
    "Collapsed": "false"
   },
   "outputs": [],
   "source": [
    "#%% Read in data\n",
    "rice_root = '/home/apoorval/Research/GeoSpatial/India_Forests/'\n",
    "dbox_root = '/home/alal/res/India_Forests/'\n",
    "root = Path(dbox_root)\n",
    "code = root / 'Code'\n",
    "data = root / 'Data'\n",
    "spatial = data/'Spatial'"
   ]
  },
  {
   "cell_type": "code",
   "execution_count": 3,
   "metadata": {
    "Collapsed": "false"
   },
   "outputs": [
    {
     "name": "stdout",
     "output_type": "stream",
     "text": [
      "CPU times: user 43.5 s, sys: 11.8 s, total: 55.3 s\n",
      "Wall time: 54.6 s\n"
     ]
    },
    {
     "data": {
      "text/html": [
       "<div>\n",
       "<style scoped>\n",
       "    .dataframe tbody tr th:only-of-type {\n",
       "        vertical-align: middle;\n",
       "    }\n",
       "\n",
       "    .dataframe tbody tr th {\n",
       "        vertical-align: top;\n",
       "    }\n",
       "\n",
       "    .dataframe thead th {\n",
       "        text-align: right;\n",
       "    }\n",
       "</style>\n",
       "<table border=\"1\" class=\"dataframe\">\n",
       "  <thead>\n",
       "    <tr style=\"text-align: right;\">\n",
       "      <th></th>\n",
       "      <th>JHAR_ID</th>\n",
       "      <th>NAME</th>\n",
       "      <th>SUB_DIST</th>\n",
       "      <th>DISTRICT</th>\n",
       "      <th>STATE_UT</th>\n",
       "      <th>CODE_2011</th>\n",
       "      <th>LEVEL</th>\n",
       "      <th>TOT_HH</th>\n",
       "      <th>TOT_POP</th>\n",
       "      <th>M_POP</th>\n",
       "      <th>...</th>\n",
       "      <th>GUJAR_ID</th>\n",
       "      <th>HP_ID</th>\n",
       "      <th>MADHYA_ID</th>\n",
       "      <th>MAHARA_ID</th>\n",
       "      <th>RAJAS_ID</th>\n",
       "      <th>index_right</th>\n",
       "      <th>sch</th>\n",
       "      <th>named</th>\n",
       "      <th>nameb</th>\n",
       "      <th>geometry</th>\n",
       "    </tr>\n",
       "  </thead>\n",
       "  <tbody>\n",
       "    <tr>\n",
       "      <td>0</td>\n",
       "      <td>1.0</td>\n",
       "      <td>Janumpi</td>\n",
       "      <td>Majhgaon</td>\n",
       "      <td>Pashchimi Singhbhum</td>\n",
       "      <td>Jharkhand</td>\n",
       "      <td>2036802745378466</td>\n",
       "      <td>Village</td>\n",
       "      <td>73.0</td>\n",
       "      <td>399.0</td>\n",
       "      <td>199.0</td>\n",
       "      <td>...</td>\n",
       "      <td>NaN</td>\n",
       "      <td>NaN</td>\n",
       "      <td>NaN</td>\n",
       "      <td>NaN</td>\n",
       "      <td>NaN</td>\n",
       "      <td>1622</td>\n",
       "      <td>1</td>\n",
       "      <td>pashchimi singhbhum</td>\n",
       "      <td>majhgaon</td>\n",
       "      <td>POLYGON ((85.89696 21.98907, 85.89709 21.98904...</td>\n",
       "    </tr>\n",
       "    <tr>\n",
       "      <td>1</td>\n",
       "      <td>2.0</td>\n",
       "      <td>Buruikuti</td>\n",
       "      <td>Majhgaon</td>\n",
       "      <td>Pashchimi Singhbhum</td>\n",
       "      <td>Jharkhand</td>\n",
       "      <td>2036802745378491</td>\n",
       "      <td>Village</td>\n",
       "      <td>122.0</td>\n",
       "      <td>710.0</td>\n",
       "      <td>347.0</td>\n",
       "      <td>...</td>\n",
       "      <td>NaN</td>\n",
       "      <td>NaN</td>\n",
       "      <td>NaN</td>\n",
       "      <td>NaN</td>\n",
       "      <td>NaN</td>\n",
       "      <td>1622</td>\n",
       "      <td>1</td>\n",
       "      <td>pashchimi singhbhum</td>\n",
       "      <td>majhgaon</td>\n",
       "      <td>POLYGON ((85.83532 21.99219, 85.83662 21.99089...</td>\n",
       "    </tr>\n",
       "    <tr>\n",
       "      <td>2</td>\n",
       "      <td>3.0</td>\n",
       "      <td>Benisagar</td>\n",
       "      <td>Majhgaon</td>\n",
       "      <td>Pashchimi Singhbhum</td>\n",
       "      <td>Jharkhand</td>\n",
       "      <td>2036802745378467</td>\n",
       "      <td>Village</td>\n",
       "      <td>137.0</td>\n",
       "      <td>667.0</td>\n",
       "      <td>319.0</td>\n",
       "      <td>...</td>\n",
       "      <td>NaN</td>\n",
       "      <td>NaN</td>\n",
       "      <td>NaN</td>\n",
       "      <td>NaN</td>\n",
       "      <td>NaN</td>\n",
       "      <td>1622</td>\n",
       "      <td>1</td>\n",
       "      <td>pashchimi singhbhum</td>\n",
       "      <td>majhgaon</td>\n",
       "      <td>POLYGON ((85.88185 21.99527, 85.88362 21.99454...</td>\n",
       "    </tr>\n",
       "    <tr>\n",
       "      <td>3</td>\n",
       "      <td>4.0</td>\n",
       "      <td>Tiraposi</td>\n",
       "      <td>Majhgaon</td>\n",
       "      <td>Pashchimi Singhbhum</td>\n",
       "      <td>Jharkhand</td>\n",
       "      <td>2036802745378492</td>\n",
       "      <td>Village</td>\n",
       "      <td>163.0</td>\n",
       "      <td>930.0</td>\n",
       "      <td>460.0</td>\n",
       "      <td>...</td>\n",
       "      <td>NaN</td>\n",
       "      <td>NaN</td>\n",
       "      <td>NaN</td>\n",
       "      <td>NaN</td>\n",
       "      <td>NaN</td>\n",
       "      <td>1622</td>\n",
       "      <td>1</td>\n",
       "      <td>pashchimi singhbhum</td>\n",
       "      <td>majhgaon</td>\n",
       "      <td>POLYGON ((85.87063 22.00095, 85.87117 22.00030...</td>\n",
       "    </tr>\n",
       "    <tr>\n",
       "      <td>4</td>\n",
       "      <td>5.0</td>\n",
       "      <td>Balibandh</td>\n",
       "      <td>Majhgaon</td>\n",
       "      <td>Pashchimi Singhbhum</td>\n",
       "      <td>Jharkhand</td>\n",
       "      <td>2036802745378496</td>\n",
       "      <td>Village</td>\n",
       "      <td>306.0</td>\n",
       "      <td>1558.0</td>\n",
       "      <td>753.0</td>\n",
       "      <td>...</td>\n",
       "      <td>NaN</td>\n",
       "      <td>NaN</td>\n",
       "      <td>NaN</td>\n",
       "      <td>NaN</td>\n",
       "      <td>NaN</td>\n",
       "      <td>1622</td>\n",
       "      <td>1</td>\n",
       "      <td>pashchimi singhbhum</td>\n",
       "      <td>majhgaon</td>\n",
       "      <td>POLYGON ((85.77795 22.00883, 85.77991 22.00846...</td>\n",
       "    </tr>\n",
       "  </tbody>\n",
       "</table>\n",
       "<p>5 rows × 105 columns</p>\n",
       "</div>"
      ],
      "text/plain": [
       "   JHAR_ID       NAME  SUB_DIST             DISTRICT   STATE_UT  \\\n",
       "0      1.0    Janumpi  Majhgaon  Pashchimi Singhbhum  Jharkhand   \n",
       "1      2.0  Buruikuti  Majhgaon  Pashchimi Singhbhum  Jharkhand   \n",
       "2      3.0  Benisagar  Majhgaon  Pashchimi Singhbhum  Jharkhand   \n",
       "3      4.0   Tiraposi  Majhgaon  Pashchimi Singhbhum  Jharkhand   \n",
       "4      5.0  Balibandh  Majhgaon  Pashchimi Singhbhum  Jharkhand   \n",
       "\n",
       "          CODE_2011    LEVEL  TOT_HH  TOT_POP  M_POP  ...  GUJAR_ID  HP_ID  \\\n",
       "0  2036802745378466  Village    73.0    399.0  199.0  ...       NaN    NaN   \n",
       "1  2036802745378491  Village   122.0    710.0  347.0  ...       NaN    NaN   \n",
       "2  2036802745378467  Village   137.0    667.0  319.0  ...       NaN    NaN   \n",
       "3  2036802745378492  Village   163.0    930.0  460.0  ...       NaN    NaN   \n",
       "4  2036802745378496  Village   306.0   1558.0  753.0  ...       NaN    NaN   \n",
       "\n",
       "   MADHYA_ID  MAHARA_ID  RAJAS_ID  index_right  sch                named  \\\n",
       "0        NaN        NaN       NaN         1622    1  pashchimi singhbhum   \n",
       "1        NaN        NaN       NaN         1622    1  pashchimi singhbhum   \n",
       "2        NaN        NaN       NaN         1622    1  pashchimi singhbhum   \n",
       "3        NaN        NaN       NaN         1622    1  pashchimi singhbhum   \n",
       "4        NaN        NaN       NaN         1622    1  pashchimi singhbhum   \n",
       "\n",
       "      nameb                                           geometry  \n",
       "0  majhgaon  POLYGON ((85.89696 21.98907, 85.89709 21.98904...  \n",
       "1  majhgaon  POLYGON ((85.83532 21.99219, 85.83662 21.99089...  \n",
       "2  majhgaon  POLYGON ((85.88185 21.99527, 85.88362 21.99454...  \n",
       "3  majhgaon  POLYGON ((85.87063 22.00095, 85.87117 22.00030...  \n",
       "4  majhgaon  POLYGON ((85.77795 22.00883, 85.77991 22.00846...  \n",
       "\n",
       "[5 rows x 105 columns]"
      ]
     },
     "execution_count": 3,
     "metadata": {},
     "output_type": "execute_result"
    }
   ],
   "source": [
    "%%time\n",
    "vil_treat = gpd.read_file(data/\"Spatial/Processed/Village_stack_treatment.gpkg\")\n",
    "vil_treat.head()"
   ]
  },
  {
   "cell_type": "code",
   "execution_count": 4,
   "metadata": {
    "Collapsed": "false"
   },
   "outputs": [
    {
     "name": "stdout",
     "output_type": "stream",
     "text": [
      "{'driver': 'GTiff', 'dtype': 'uint8', 'nodata': None, 'width': 40000, 'height': 40000, 'count': 1, 'crs': CRS.from_epsg(4326), 'transform': Affine(0.00025, 0.0, 80.0,\n",
      "       0.0, -0.00025, 30.0), 'tiled': False, 'compress': 'lzw', 'interleave': 'band'}\n",
      "{'driver': 'GTiff', 'dtype': 'uint8', 'nodata': None, 'width': 40000, 'height': 40000, 'count': 1, 'crs': CRS.from_epsg(4326), 'transform': Affine(0.00025, 0.0, 80.0,\n",
      "       0.0, -0.00025, 30.0), 'tiled': False, 'compress': 'lzw', 'interleave': 'band'}\n"
     ]
    }
   ],
   "source": [
    "deforestation = root / 'Data/Spatial/Rasters/Hansen_GFC-2017-v1.5_lossyear_30N_080E.tif'\n",
    "ex_ante       = root / 'Data/Spatial/Rasters/Hansen_GFC-2017-v1.5_treecover2000_30N_080E.tif'\n",
    "\n",
    "with rasterio.open(deforestation) as src:\n",
    "    print(src.profile)\n",
    "\n",
    "with rasterio.open(ex_ante) as src:\n",
    "    print(src.profile)"
   ]
  },
  {
   "cell_type": "markdown",
   "metadata": {
    "Collapsed": "false"
   },
   "source": [
    "# Dry Run"
   ]
  },
  {
   "cell_type": "markdown",
   "metadata": {
    "Collapsed": "false"
   },
   "source": [
    "## Raster Merge "
   ]
  },
  {
   "cell_type": "markdown",
   "metadata": {
    "Collapsed": "false"
   },
   "source": [
    "### Dry Run "
   ]
  },
  {
   "cell_type": "markdown",
   "metadata": {
    "Collapsed": "true"
   },
   "source": [
    "### 1 district "
   ]
  },
  {
   "cell_type": "code",
   "execution_count": null,
   "metadata": {
    "Collapsed": "false"
   },
   "outputs": [],
   "source": [
    "sim_def =  gpd.GeoDataFrame.from_features(zonal_stats(simdega, \n",
    "                    deforestation, prefix = 'deforest_',\n",
    "                    stats='count', nodata=-1, categorical=True, geojson_out = True))"
   ]
  },
  {
   "cell_type": "code",
   "execution_count": null,
   "metadata": {
    "Collapsed": "false"
   },
   "outputs": [],
   "source": [
    "sim_def.head()"
   ]
  },
  {
   "cell_type": "code",
   "execution_count": null,
   "metadata": {
    "Collapsed": "false"
   },
   "outputs": [],
   "source": [
    "sim_def['deforest_4'].value_counts()"
   ]
  },
  {
   "cell_type": "markdown",
   "metadata": {
    "Collapsed": "false"
   },
   "source": [
    "## Run Merge "
   ]
  },
  {
   "cell_type": "markdown",
   "metadata": {
    "Collapsed": "true"
   },
   "source": [
    "### 1 State "
   ]
  },
  {
   "cell_type": "code",
   "execution_count": null,
   "metadata": {
    "Collapsed": "false"
   },
   "outputs": [],
   "source": [
    "j_def =  gpd.GeoDataFrame.from_features(zonal_stats(jharkhand, deforestation, \n",
    "                    prefix = 'deforest_',\n",
    "                    stats='count', nodata=-1, categorical=True, geojson_out = True))"
   ]
  },
  {
   "cell_type": "code",
   "execution_count": null,
   "metadata": {
    "Collapsed": "false"
   },
   "outputs": [],
   "source": [
    "j_def.to_file(data + '/Spatial/Processed/jharkhand_village_deforestation.shp')"
   ]
  },
  {
   "cell_type": "markdown",
   "metadata": {
    "Collapsed": "false"
   },
   "source": [
    "# Merge All "
   ]
  },
  {
   "cell_type": "code",
   "execution_count": 5,
   "metadata": {
    "Collapsed": "false"
   },
   "outputs": [
    {
     "name": "stdout",
     "output_type": "stream",
     "text": [
      "\u001b[0m\u001b[01;32mHansen_GFC-2017-v1.5_datamask_20N_070E.tif\u001b[0m*\n",
      "\u001b[01;32mHansen_GFC-2017-v1.5_datamask_20N_080E.tif\u001b[0m*\n",
      "\u001b[01;32mHansen_GFC-2017-v1.5_datamask_30N_080E.tif\u001b[0m*\n",
      "\u001b[01;32mHansen_GFC-2017-v1.5_datamask_40N_070E.tif\u001b[0m*\n",
      "\u001b[01;32mHansen_GFC-2017-v1.5_lossyear_20N_070E.tif\u001b[0m*\n",
      "\u001b[01;32mHansen_GFC-2017-v1.5_lossyear_20N_080E.tif\u001b[0m*\n",
      "\u001b[01;32mHansen_GFC-2017-v1.5_lossyear_30N_070E.tif\u001b[0m*\n",
      "\u001b[01;32mHansen_GFC-2017-v1.5_lossyear_30N_080E.tif\u001b[0m*\n",
      "\u001b[01;32mHansen_GFC-2017-v1.5_lossyear_40N_070E.tif\u001b[0m*\n",
      "\u001b[01;32mHansen_GFC-2017-v1.5_treecover2000_20N_070E.tif\u001b[0m*\n",
      "\u001b[01;32mHansen_GFC-2017-v1.5_treecover2000_20N_080E.tif\u001b[0m*\n",
      "\u001b[01;32mHansen_GFC-2017-v1.5_treecover2000_30N_070E.tif\u001b[0m*\n",
      "\u001b[01;32mHansen_GFC-2017-v1.5_treecover2000_30N_080E.tif\u001b[0m*\n",
      "\u001b[01;32mHansen_GFC-2017-v1.5_treecover2000_40N_070E.tif\u001b[0m*\n",
      "\u001b[01;35m_Hansen_GFC_lossyear_all.tif\u001b[0m\n",
      "\u001b[01;32m_Hansen_GFC_lossyear_all.tif.aux.xml\u001b[0m*\n",
      "\u001b[01;35m_Hansen_GFC_treecover2000_all.tif\u001b[0m\n",
      "\u001b[01;32mdownloader.sh\u001b[0m*\n",
      "\u001b[01;32mforest_rasters.txt\u001b[0m*\n"
     ]
    }
   ],
   "source": [
    "rasters = root / 'Data/Spatial/Rasters/'\n",
    "%ls {rasters}"
   ]
  },
  {
   "cell_type": "code",
   "execution_count": 6,
   "metadata": {
    "Collapsed": "false"
   },
   "outputs": [],
   "source": [
    "def_master = rasters / '_Hansen_GFC_lossyear_all.tif'"
   ]
  },
  {
   "cell_type": "code",
   "execution_count": 7,
   "metadata": {
    "Collapsed": "false"
   },
   "outputs": [
    {
     "name": "stdout",
     "output_type": "stream",
     "text": [
      "{'driver': 'GTiff', 'dtype': 'uint8', 'nodata': None, 'width': 80000, 'height': 120000, 'count': 1, 'crs': CRS.from_epsg(4326), 'transform': Affine(0.00025, 0.0, 70.0,\n",
      "       0.0, -0.00025, 40.0), 'tiled': False, 'compress': 'lzw', 'interleave': 'band'}\n"
     ]
    }
   ],
   "source": [
    "with rasterio.open(def_master) as src:\n",
    "    print(src.profile)"
   ]
  },
  {
   "cell_type": "code",
   "execution_count": 8,
   "metadata": {
    "Collapsed": "false"
   },
   "outputs": [
    {
     "name": "stdout",
     "output_type": "stream",
     "text": [
      "CPU times: user 1h 23min 32s, sys: 8min 31s, total: 1h 32min 4s\n",
      "Wall time: 1h 32min 11s\n"
     ]
    }
   ],
   "source": [
    "%%time\n",
    "all_def = gpd.GeoDataFrame.from_features(zonal_stats(vil_treat, def_master,   \n",
    "            prefix = 'deforest_', stats='count', nodata=-1, \n",
    "            categorical=True, geojson_out=True))\n",
    "all_def.crs = vil_treat.crs"
   ]
  },
  {
   "cell_type": "code",
   "execution_count": 9,
   "metadata": {
    "Collapsed": "false"
   },
   "outputs": [
    {
     "data": {
      "text/html": [
       "<div>\n",
       "<style scoped>\n",
       "    .dataframe tbody tr th:only-of-type {\n",
       "        vertical-align: middle;\n",
       "    }\n",
       "\n",
       "    .dataframe tbody tr th {\n",
       "        vertical-align: top;\n",
       "    }\n",
       "\n",
       "    .dataframe thead th {\n",
       "        text-align: right;\n",
       "    }\n",
       "</style>\n",
       "<table border=\"1\" class=\"dataframe\">\n",
       "  <thead>\n",
       "    <tr style=\"text-align: right;\">\n",
       "      <th></th>\n",
       "      <th>geometry</th>\n",
       "      <th>ANDHR_ID</th>\n",
       "      <th>CHHAT_ID</th>\n",
       "      <th>CODE_2011</th>\n",
       "      <th>DISTRICT</th>\n",
       "      <th>F_AGLB</th>\n",
       "      <th>F_CULT</th>\n",
       "      <th>F_ILLT</th>\n",
       "      <th>F_L6</th>\n",
       "      <th>F_LIT</th>\n",
       "      <th>...</th>\n",
       "      <th>deforest_9</th>\n",
       "      <th>deforest_12</th>\n",
       "      <th>deforest_3</th>\n",
       "      <th>deforest_7</th>\n",
       "      <th>deforest_2</th>\n",
       "      <th>deforest_14</th>\n",
       "      <th>deforest_17</th>\n",
       "      <th>deforest_13</th>\n",
       "      <th>deforest_15</th>\n",
       "      <th>deforest_16</th>\n",
       "    </tr>\n",
       "  </thead>\n",
       "  <tbody>\n",
       "    <tr>\n",
       "      <td>0</td>\n",
       "      <td>POLYGON ((85.89696 21.98907, 85.89709 21.98904...</td>\n",
       "      <td>NaN</td>\n",
       "      <td>NaN</td>\n",
       "      <td>2036802745378466</td>\n",
       "      <td>Pashchimi Singhbhum</td>\n",
       "      <td>1.0</td>\n",
       "      <td>9.0</td>\n",
       "      <td>155.0</td>\n",
       "      <td>41.0</td>\n",
       "      <td>45.0</td>\n",
       "      <td>...</td>\n",
       "      <td>NaN</td>\n",
       "      <td>NaN</td>\n",
       "      <td>NaN</td>\n",
       "      <td>NaN</td>\n",
       "      <td>NaN</td>\n",
       "      <td>NaN</td>\n",
       "      <td>NaN</td>\n",
       "      <td>NaN</td>\n",
       "      <td>NaN</td>\n",
       "      <td>NaN</td>\n",
       "    </tr>\n",
       "    <tr>\n",
       "      <td>1</td>\n",
       "      <td>POLYGON ((85.83532 21.99219, 85.83662 21.99089...</td>\n",
       "      <td>NaN</td>\n",
       "      <td>NaN</td>\n",
       "      <td>2036802745378491</td>\n",
       "      <td>Pashchimi Singhbhum</td>\n",
       "      <td>47.0</td>\n",
       "      <td>10.0</td>\n",
       "      <td>264.0</td>\n",
       "      <td>68.0</td>\n",
       "      <td>99.0</td>\n",
       "      <td>...</td>\n",
       "      <td>NaN</td>\n",
       "      <td>NaN</td>\n",
       "      <td>NaN</td>\n",
       "      <td>NaN</td>\n",
       "      <td>NaN</td>\n",
       "      <td>NaN</td>\n",
       "      <td>NaN</td>\n",
       "      <td>NaN</td>\n",
       "      <td>NaN</td>\n",
       "      <td>NaN</td>\n",
       "    </tr>\n",
       "    <tr>\n",
       "      <td>2</td>\n",
       "      <td>POLYGON ((85.88185 21.99527, 85.88362 21.99454...</td>\n",
       "      <td>NaN</td>\n",
       "      <td>NaN</td>\n",
       "      <td>2036802745378467</td>\n",
       "      <td>Pashchimi Singhbhum</td>\n",
       "      <td>3.0</td>\n",
       "      <td>2.0</td>\n",
       "      <td>232.0</td>\n",
       "      <td>63.0</td>\n",
       "      <td>116.0</td>\n",
       "      <td>...</td>\n",
       "      <td>NaN</td>\n",
       "      <td>NaN</td>\n",
       "      <td>NaN</td>\n",
       "      <td>NaN</td>\n",
       "      <td>NaN</td>\n",
       "      <td>NaN</td>\n",
       "      <td>NaN</td>\n",
       "      <td>NaN</td>\n",
       "      <td>NaN</td>\n",
       "      <td>NaN</td>\n",
       "    </tr>\n",
       "    <tr>\n",
       "      <td>3</td>\n",
       "      <td>POLYGON ((85.87063 22.00095, 85.87117 22.00030...</td>\n",
       "      <td>NaN</td>\n",
       "      <td>NaN</td>\n",
       "      <td>2036802745378492</td>\n",
       "      <td>Pashchimi Singhbhum</td>\n",
       "      <td>0.0</td>\n",
       "      <td>1.0</td>\n",
       "      <td>394.0</td>\n",
       "      <td>88.0</td>\n",
       "      <td>76.0</td>\n",
       "      <td>...</td>\n",
       "      <td>NaN</td>\n",
       "      <td>NaN</td>\n",
       "      <td>NaN</td>\n",
       "      <td>NaN</td>\n",
       "      <td>NaN</td>\n",
       "      <td>NaN</td>\n",
       "      <td>NaN</td>\n",
       "      <td>NaN</td>\n",
       "      <td>NaN</td>\n",
       "      <td>NaN</td>\n",
       "    </tr>\n",
       "    <tr>\n",
       "      <td>4</td>\n",
       "      <td>POLYGON ((85.77795 22.00883, 85.77991 22.00846...</td>\n",
       "      <td>NaN</td>\n",
       "      <td>NaN</td>\n",
       "      <td>2036802745378496</td>\n",
       "      <td>Pashchimi Singhbhum</td>\n",
       "      <td>113.0</td>\n",
       "      <td>95.0</td>\n",
       "      <td>533.0</td>\n",
       "      <td>154.0</td>\n",
       "      <td>272.0</td>\n",
       "      <td>...</td>\n",
       "      <td>NaN</td>\n",
       "      <td>NaN</td>\n",
       "      <td>NaN</td>\n",
       "      <td>NaN</td>\n",
       "      <td>NaN</td>\n",
       "      <td>NaN</td>\n",
       "      <td>NaN</td>\n",
       "      <td>NaN</td>\n",
       "      <td>NaN</td>\n",
       "      <td>NaN</td>\n",
       "    </tr>\n",
       "  </tbody>\n",
       "</table>\n",
       "<p>5 rows × 124 columns</p>\n",
       "</div>"
      ],
      "text/plain": [
       "                                            geometry  ANDHR_ID  CHHAT_ID  \\\n",
       "0  POLYGON ((85.89696 21.98907, 85.89709 21.98904...       NaN       NaN   \n",
       "1  POLYGON ((85.83532 21.99219, 85.83662 21.99089...       NaN       NaN   \n",
       "2  POLYGON ((85.88185 21.99527, 85.88362 21.99454...       NaN       NaN   \n",
       "3  POLYGON ((85.87063 22.00095, 85.87117 22.00030...       NaN       NaN   \n",
       "4  POLYGON ((85.77795 22.00883, 85.77991 22.00846...       NaN       NaN   \n",
       "\n",
       "          CODE_2011             DISTRICT  F_AGLB  F_CULT  F_ILLT   F_L6  \\\n",
       "0  2036802745378466  Pashchimi Singhbhum     1.0     9.0   155.0   41.0   \n",
       "1  2036802745378491  Pashchimi Singhbhum    47.0    10.0   264.0   68.0   \n",
       "2  2036802745378467  Pashchimi Singhbhum     3.0     2.0   232.0   63.0   \n",
       "3  2036802745378492  Pashchimi Singhbhum     0.0     1.0   394.0   88.0   \n",
       "4  2036802745378496  Pashchimi Singhbhum   113.0    95.0   533.0  154.0   \n",
       "\n",
       "   F_LIT  ...  deforest_9  deforest_12  deforest_3  deforest_7  deforest_2  \\\n",
       "0   45.0  ...         NaN          NaN         NaN         NaN         NaN   \n",
       "1   99.0  ...         NaN          NaN         NaN         NaN         NaN   \n",
       "2  116.0  ...         NaN          NaN         NaN         NaN         NaN   \n",
       "3   76.0  ...         NaN          NaN         NaN         NaN         NaN   \n",
       "4  272.0  ...         NaN          NaN         NaN         NaN         NaN   \n",
       "\n",
       "   deforest_14  deforest_17  deforest_13  deforest_15  deforest_16  \n",
       "0          NaN          NaN          NaN          NaN          NaN  \n",
       "1          NaN          NaN          NaN          NaN          NaN  \n",
       "2          NaN          NaN          NaN          NaN          NaN  \n",
       "3          NaN          NaN          NaN          NaN          NaN  \n",
       "4          NaN          NaN          NaN          NaN          NaN  \n",
       "\n",
       "[5 rows x 124 columns]"
      ]
     },
     "execution_count": 9,
     "metadata": {},
     "output_type": "execute_result"
    },
    {
     "data": {
      "text/plain": [
       "(308503, 124)"
      ]
     },
     "execution_count": 9,
     "metadata": {},
     "output_type": "execute_result"
    }
   ],
   "source": [
    "all_def.head()\n",
    "all_def.shape"
   ]
  },
  {
   "cell_type": "code",
   "execution_count": 13,
   "metadata": {
    "Collapsed": "false"
   },
   "outputs": [
    {
     "name": "stdout",
     "output_type": "stream",
     "text": [
      "CPU times: user 17min 11s, sys: 6.12 s, total: 17min 18s\n",
      "Wall time: 17min 19s\n"
     ]
    }
   ],
   "source": [
    "%%time\n",
    "all_def.to_file(spatial/'Processed/village_stack_deforestation.gpkg', driver = \"GPKG\")"
   ]
  },
  {
   "cell_type": "markdown",
   "metadata": {
    "Collapsed": "false"
   },
   "source": [
    "# Ex-Ante Forest Levels "
   ]
  },
  {
   "cell_type": "code",
   "execution_count": 14,
   "metadata": {
    "Collapsed": "false"
   },
   "outputs": [
    {
     "name": "stdout",
     "output_type": "stream",
     "text": [
      "\u001b[0m\u001b[01;32mHansen_GFC-2017-v1.5_datamask_20N_070E.tif\u001b[0m*\n",
      "\u001b[01;32mHansen_GFC-2017-v1.5_datamask_20N_080E.tif\u001b[0m*\n",
      "\u001b[01;32mHansen_GFC-2017-v1.5_datamask_30N_080E.tif\u001b[0m*\n",
      "\u001b[01;32mHansen_GFC-2017-v1.5_datamask_40N_070E.tif\u001b[0m*\n",
      "\u001b[01;32mHansen_GFC-2017-v1.5_lossyear_20N_070E.tif\u001b[0m*\n",
      "\u001b[01;32mHansen_GFC-2017-v1.5_lossyear_20N_080E.tif\u001b[0m*\n",
      "\u001b[01;32mHansen_GFC-2017-v1.5_lossyear_30N_070E.tif\u001b[0m*\n",
      "\u001b[01;32mHansen_GFC-2017-v1.5_lossyear_30N_080E.tif\u001b[0m*\n",
      "\u001b[01;32mHansen_GFC-2017-v1.5_lossyear_40N_070E.tif\u001b[0m*\n",
      "\u001b[01;32mHansen_GFC-2017-v1.5_treecover2000_20N_070E.tif\u001b[0m*\n",
      "\u001b[01;32mHansen_GFC-2017-v1.5_treecover2000_20N_080E.tif\u001b[0m*\n",
      "\u001b[01;32mHansen_GFC-2017-v1.5_treecover2000_30N_070E.tif\u001b[0m*\n",
      "\u001b[01;32mHansen_GFC-2017-v1.5_treecover2000_30N_080E.tif\u001b[0m*\n",
      "\u001b[01;32mHansen_GFC-2017-v1.5_treecover2000_40N_070E.tif\u001b[0m*\n",
      "\u001b[01;35m_Hansen_GFC_lossyear_all.tif\u001b[0m\n",
      "\u001b[01;32m_Hansen_GFC_lossyear_all.tif.aux.xml\u001b[0m*\n",
      "\u001b[01;35m_Hansen_GFC_treecover2000_all.tif\u001b[0m\n",
      "\u001b[01;32mdownloader.sh\u001b[0m*\n",
      "\u001b[01;32mforest_rasters.txt\u001b[0m*\n"
     ]
    }
   ],
   "source": [
    "rasters = spatial/ 'Rasters/'\n",
    "%ls {rasters}"
   ]
  },
  {
   "cell_type": "markdown",
   "metadata": {
    "Collapsed": "false"
   },
   "source": [
    "## Raster Merge "
   ]
  },
  {
   "cell_type": "code",
   "execution_count": 15,
   "metadata": {
    "Collapsed": "false"
   },
   "outputs": [],
   "source": [
    "ea_master = rasters / '_Hansen_GFC_treecover2000_all.tif'"
   ]
  },
  {
   "cell_type": "code",
   "execution_count": 16,
   "metadata": {
    "Collapsed": "false"
   },
   "outputs": [
    {
     "name": "stdout",
     "output_type": "stream",
     "text": [
      "{'driver': 'GTiff', 'dtype': 'uint8', 'nodata': None, 'width': 80000, 'height': 120000, 'count': 1, 'crs': CRS.from_epsg(4326), 'transform': Affine(0.00025, 0.0, 70.0,\n",
      "       0.0, -0.00025, 40.0), 'tiled': False, 'compress': 'lzw', 'interleave': 'band'}\n"
     ]
    }
   ],
   "source": [
    "with rasterio.open(ea_master) as src:\n",
    "    print(src.profile)"
   ]
  },
  {
   "cell_type": "code",
   "execution_count": 17,
   "metadata": {
    "Collapsed": "false"
   },
   "outputs": [
    {
     "name": "stdout",
     "output_type": "stream",
     "text": [
      "CPU times: user 2h 21min 52s, sys: 13min 40s, total: 2h 35min 32s\n",
      "Wall time: 2h 35min 42s\n"
     ]
    }
   ],
   "source": [
    "%%time\n",
    "all_def = gpd.GeoDataFrame.from_features(zonal_stats(vil_treat, ea_master,   \n",
    "            prefix = 'preF_', nodata=-1, geojson_out = True))\n",
    "all_def.crs = vil_treat.crs"
   ]
  },
  {
   "cell_type": "code",
   "execution_count": 18,
   "metadata": {
    "Collapsed": "false"
   },
   "outputs": [
    {
     "data": {
      "text/html": [
       "<div>\n",
       "<style scoped>\n",
       "    .dataframe tbody tr th:only-of-type {\n",
       "        vertical-align: middle;\n",
       "    }\n",
       "\n",
       "    .dataframe tbody tr th {\n",
       "        vertical-align: top;\n",
       "    }\n",
       "\n",
       "    .dataframe thead th {\n",
       "        text-align: right;\n",
       "    }\n",
       "</style>\n",
       "<table border=\"1\" class=\"dataframe\">\n",
       "  <thead>\n",
       "    <tr style=\"text-align: right;\">\n",
       "      <th></th>\n",
       "      <th>geometry</th>\n",
       "      <th>ANDHR_ID</th>\n",
       "      <th>CHHAT_ID</th>\n",
       "      <th>CODE_2011</th>\n",
       "      <th>DISTRICT</th>\n",
       "      <th>F_AGLB</th>\n",
       "      <th>F_CULT</th>\n",
       "      <th>F_ILLT</th>\n",
       "      <th>F_L6</th>\n",
       "      <th>F_LIT</th>\n",
       "      <th>...</th>\n",
       "      <th>T_M_CL_0_3</th>\n",
       "      <th>T_M_CL_3_6</th>\n",
       "      <th>index_right</th>\n",
       "      <th>nameb</th>\n",
       "      <th>named</th>\n",
       "      <th>sch</th>\n",
       "      <th>preF_min</th>\n",
       "      <th>preF_max</th>\n",
       "      <th>preF_mean</th>\n",
       "      <th>preF_count</th>\n",
       "    </tr>\n",
       "  </thead>\n",
       "  <tbody>\n",
       "    <tr>\n",
       "      <td>0</td>\n",
       "      <td>POLYGON ((85.89696 21.98907, 85.89709 21.98904...</td>\n",
       "      <td>NaN</td>\n",
       "      <td>NaN</td>\n",
       "      <td>2036802745378466</td>\n",
       "      <td>Pashchimi Singhbhum</td>\n",
       "      <td>1.0</td>\n",
       "      <td>9.0</td>\n",
       "      <td>155.0</td>\n",
       "      <td>41.0</td>\n",
       "      <td>45.0</td>\n",
       "      <td>...</td>\n",
       "      <td>10.0</td>\n",
       "      <td>47.0</td>\n",
       "      <td>1622</td>\n",
       "      <td>majhgaon</td>\n",
       "      <td>pashchimi singhbhum</td>\n",
       "      <td>1</td>\n",
       "      <td>0.0</td>\n",
       "      <td>12.0</td>\n",
       "      <td>0.020349</td>\n",
       "      <td>3096</td>\n",
       "    </tr>\n",
       "    <tr>\n",
       "      <td>1</td>\n",
       "      <td>POLYGON ((85.83532 21.99219, 85.83662 21.99089...</td>\n",
       "      <td>NaN</td>\n",
       "      <td>NaN</td>\n",
       "      <td>2036802745378491</td>\n",
       "      <td>Pashchimi Singhbhum</td>\n",
       "      <td>47.0</td>\n",
       "      <td>10.0</td>\n",
       "      <td>264.0</td>\n",
       "      <td>68.0</td>\n",
       "      <td>99.0</td>\n",
       "      <td>...</td>\n",
       "      <td>3.0</td>\n",
       "      <td>5.0</td>\n",
       "      <td>1622</td>\n",
       "      <td>majhgaon</td>\n",
       "      <td>pashchimi singhbhum</td>\n",
       "      <td>1</td>\n",
       "      <td>0.0</td>\n",
       "      <td>32.0</td>\n",
       "      <td>0.073713</td>\n",
       "      <td>5033</td>\n",
       "    </tr>\n",
       "    <tr>\n",
       "      <td>2</td>\n",
       "      <td>POLYGON ((85.88185 21.99527, 85.88362 21.99454...</td>\n",
       "      <td>NaN</td>\n",
       "      <td>NaN</td>\n",
       "      <td>2036802745378467</td>\n",
       "      <td>Pashchimi Singhbhum</td>\n",
       "      <td>3.0</td>\n",
       "      <td>2.0</td>\n",
       "      <td>232.0</td>\n",
       "      <td>63.0</td>\n",
       "      <td>116.0</td>\n",
       "      <td>...</td>\n",
       "      <td>46.0</td>\n",
       "      <td>137.0</td>\n",
       "      <td>1622</td>\n",
       "      <td>majhgaon</td>\n",
       "      <td>pashchimi singhbhum</td>\n",
       "      <td>1</td>\n",
       "      <td>0.0</td>\n",
       "      <td>28.0</td>\n",
       "      <td>0.300000</td>\n",
       "      <td>3400</td>\n",
       "    </tr>\n",
       "    <tr>\n",
       "      <td>3</td>\n",
       "      <td>POLYGON ((85.87063 22.00095, 85.87117 22.00030...</td>\n",
       "      <td>NaN</td>\n",
       "      <td>NaN</td>\n",
       "      <td>2036802745378492</td>\n",
       "      <td>Pashchimi Singhbhum</td>\n",
       "      <td>0.0</td>\n",
       "      <td>1.0</td>\n",
       "      <td>394.0</td>\n",
       "      <td>88.0</td>\n",
       "      <td>76.0</td>\n",
       "      <td>...</td>\n",
       "      <td>0.0</td>\n",
       "      <td>0.0</td>\n",
       "      <td>1622</td>\n",
       "      <td>majhgaon</td>\n",
       "      <td>pashchimi singhbhum</td>\n",
       "      <td>1</td>\n",
       "      <td>0.0</td>\n",
       "      <td>14.0</td>\n",
       "      <td>0.031380</td>\n",
       "      <td>5035</td>\n",
       "    </tr>\n",
       "    <tr>\n",
       "      <td>4</td>\n",
       "      <td>POLYGON ((85.77795 22.00883, 85.77991 22.00846...</td>\n",
       "      <td>NaN</td>\n",
       "      <td>NaN</td>\n",
       "      <td>2036802745378496</td>\n",
       "      <td>Pashchimi Singhbhum</td>\n",
       "      <td>113.0</td>\n",
       "      <td>95.0</td>\n",
       "      <td>533.0</td>\n",
       "      <td>154.0</td>\n",
       "      <td>272.0</td>\n",
       "      <td>...</td>\n",
       "      <td>30.0</td>\n",
       "      <td>95.0</td>\n",
       "      <td>1622</td>\n",
       "      <td>majhgaon</td>\n",
       "      <td>pashchimi singhbhum</td>\n",
       "      <td>1</td>\n",
       "      <td>0.0</td>\n",
       "      <td>32.0</td>\n",
       "      <td>0.424898</td>\n",
       "      <td>9840</td>\n",
       "    </tr>\n",
       "  </tbody>\n",
       "</table>\n",
       "<p>5 rows × 109 columns</p>\n",
       "</div>"
      ],
      "text/plain": [
       "                                            geometry  ANDHR_ID  CHHAT_ID  \\\n",
       "0  POLYGON ((85.89696 21.98907, 85.89709 21.98904...       NaN       NaN   \n",
       "1  POLYGON ((85.83532 21.99219, 85.83662 21.99089...       NaN       NaN   \n",
       "2  POLYGON ((85.88185 21.99527, 85.88362 21.99454...       NaN       NaN   \n",
       "3  POLYGON ((85.87063 22.00095, 85.87117 22.00030...       NaN       NaN   \n",
       "4  POLYGON ((85.77795 22.00883, 85.77991 22.00846...       NaN       NaN   \n",
       "\n",
       "          CODE_2011             DISTRICT  F_AGLB  F_CULT  F_ILLT   F_L6  \\\n",
       "0  2036802745378466  Pashchimi Singhbhum     1.0     9.0   155.0   41.0   \n",
       "1  2036802745378491  Pashchimi Singhbhum    47.0    10.0   264.0   68.0   \n",
       "2  2036802745378467  Pashchimi Singhbhum     3.0     2.0   232.0   63.0   \n",
       "3  2036802745378492  Pashchimi Singhbhum     0.0     1.0   394.0   88.0   \n",
       "4  2036802745378496  Pashchimi Singhbhum   113.0    95.0   533.0  154.0   \n",
       "\n",
       "   F_LIT  ...  T_M_CL_0_3  T_M_CL_3_6  index_right     nameb  \\\n",
       "0   45.0  ...        10.0        47.0         1622  majhgaon   \n",
       "1   99.0  ...         3.0         5.0         1622  majhgaon   \n",
       "2  116.0  ...        46.0       137.0         1622  majhgaon   \n",
       "3   76.0  ...         0.0         0.0         1622  majhgaon   \n",
       "4  272.0  ...        30.0        95.0         1622  majhgaon   \n",
       "\n",
       "                 named  sch  preF_min  preF_max  preF_mean  preF_count  \n",
       "0  pashchimi singhbhum    1       0.0      12.0   0.020349        3096  \n",
       "1  pashchimi singhbhum    1       0.0      32.0   0.073713        5033  \n",
       "2  pashchimi singhbhum    1       0.0      28.0   0.300000        3400  \n",
       "3  pashchimi singhbhum    1       0.0      14.0   0.031380        5035  \n",
       "4  pashchimi singhbhum    1       0.0      32.0   0.424898        9840  \n",
       "\n",
       "[5 rows x 109 columns]"
      ]
     },
     "execution_count": 18,
     "metadata": {},
     "output_type": "execute_result"
    },
    {
     "data": {
      "text/plain": [
       "(308503, 109)"
      ]
     },
     "execution_count": 18,
     "metadata": {},
     "output_type": "execute_result"
    }
   ],
   "source": [
    "all_def.head()\n",
    "all_def.shape"
   ]
  },
  {
   "cell_type": "code",
   "execution_count": null,
   "metadata": {
    "Collapsed": "false"
   },
   "outputs": [],
   "source": [
    "%%time\n",
    "all_def.to_file(spatial/'Processed/village_stack_ex_ante.gpkg', driver = \"GPKG\")"
   ]
  }
 ],
 "metadata": {
  "kernelspec": {
   "display_name": "GIS",
   "language": "python",
   "name": "gds"
  },
  "language_info": {
   "codemirror_mode": {
    "name": "ipython",
    "version": 3
   },
   "file_extension": ".py",
   "mimetype": "text/x-python",
   "name": "python",
   "nbconvert_exporter": "python",
   "pygments_lexer": "ipython3",
   "version": "3.7.2"
  }
 },
 "nbformat": 4,
 "nbformat_minor": 4
}
