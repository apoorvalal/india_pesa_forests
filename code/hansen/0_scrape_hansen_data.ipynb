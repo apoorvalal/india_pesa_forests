{
 "cells": [
  {
   "cell_type": "code",
   "execution_count": 1,
   "id": "f0746fd3",
   "metadata": {},
   "outputs": [],
   "source": [
    "from datetime import datetime, timedelta\n",
    "\n",
    "from selenium import webdriver\n",
    "from webdriver_manager.chrome import ChromeDriverManager\n",
    "\n",
    "#Library\n",
    "# ---\n",
    "# For scrape\n",
    "from selenium import webdriver\n",
    "from webdriver_manager.chrome import ChromeDriverManager\n",
    "\n",
    "# Options driver\n",
    "from selenium.webdriver.chrome.options import Options\n",
    "\n",
    "# For dataframes\n",
    "import pandas as pd\n",
    "from pandas import json_normalize\n",
    "\n",
    "# For simulate human behavior.\n",
    "import time\n",
    "from time import sleep\n",
    "import random\n",
    "\n",
    "# Clear data\n",
    "import unidecode\n",
    "#unaccented_string = unidecode.unidecode(accented_string)\n",
    "\n",
    "# Manipulate Json files\n",
    "import json\n",
    "import re\n",
    "import numpy as np\n",
    "from datetime import datetime\n",
    "from selenium.webdriver.common.keys import Keys"
   ]
  },
  {
   "cell_type": "code",
   "execution_count": 2,
   "id": "e165201e",
   "metadata": {},
   "outputs": [],
   "source": [
    "import urllib.request"
   ]
  },
  {
   "cell_type": "code",
   "execution_count": 13,
   "id": "85c5f4de",
   "metadata": {},
   "outputs": [],
   "source": [
    "# Defining Main path \n",
    "main_path = fr\"C:\\Users\\Anzony\\Dropbox\\india_pesa_forests\"\n",
    "\n",
    "# Link\n",
    "lossyear = \"https://storage.googleapis.com/earthenginepartners-hansen/GFC-2022-v1.10\"\n",
    "treecover = \"https://storage.googleapis.com/earthenginepartners-hansen/GFC-2022-v1.10\"\n",
    "\n",
    "# Folder Dropbox\n",
    "lossyear_folder = fr\"{main_path}\\inp\\hansen/lossyear\"\n",
    "treecover_folder = fr\"{main_path}\\inp\\hansen/treecover\""
   ]
  },
  {
   "cell_type": "code",
   "execution_count": null,
   "id": "691ca7dd",
   "metadata": {},
   "outputs": [],
   "source": [
    "for nort in range( 10, 50, 10 ):\n",
    "    \n",
    "    for south in range( 40, 100, 10 ):\n",
    "        \n",
    "        print( nort, south )\n",
    "        # Lossyear\n",
    "        file_name_loss = f\"Hansen_GFC-2022-v1.10_lossyear_{nort}N_0{south}E.tif\"\n",
    "        link_loss = fr\"{lossyear}/{file_name_loss}\"\n",
    "        urllib.request.urlretrieve( link_loss, fr\"{lossyear_folder}/{file_name_loss}\")\n",
    "        \n",
    "        # treecover\n",
    "        file_name_tree_cover = f\"Hansen_GFC-2022-v1.10_treecover2000_{nort}N_0{south}E.tif\"\n",
    "        link_tree_cover = fr\"{treecover}/{file_name_tree_cover}\"\n",
    "        urllib.request.urlretrieve( link_tree_cover, fr\"{treecover_folder}/{file_name_tree_cover}\")"
   ]
  }
 ],
 "metadata": {
  "hide_input": false,
  "kernelspec": {
   "display_name": "Python 3",
   "language": "python",
   "name": "python3"
  },
  "language_info": {
   "codemirror_mode": {
    "name": "ipython",
    "version": 3
   },
   "file_extension": ".py",
   "mimetype": "text/x-python",
   "name": "python",
   "nbconvert_exporter": "python",
   "pygments_lexer": "ipython3",
   "version": "3.8.6"
  },
  "toc": {
   "base_numbering": 1,
   "nav_menu": {},
   "number_sections": true,
   "sideBar": true,
   "skip_h1_title": false,
   "title_cell": "Table of Contents",
   "title_sidebar": "Contents",
   "toc_cell": false,
   "toc_position": {},
   "toc_section_display": true,
   "toc_window_display": false
  }
 },
 "nbformat": 4,
 "nbformat_minor": 5
}
